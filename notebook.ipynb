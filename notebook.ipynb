{
 "cells": [
  {
   "cell_type": "code",
   "execution_count": null,
   "id": "ae7544fe",
   "metadata": {},
   "outputs": [],
   "source": [
    "import google.generativeai as genai\n",
    "\n",
    "# Replace \"YOUR_API_KEY\" with your actual API key\n",
    "genai.configure(api_key=\"YOUR_API_KEY\")"
   ]
  },
  {
   "cell_type": "code",
   "execution_count": 6,
   "id": "76959bcb",
   "metadata": {},
   "outputs": [],
   "source": [
    "# Select a model, for example, \"gemini-pro\"\n",
    "model = genai.GenerativeModel('gemini-1.5-flash')\n",
    "\n",
    "\n",
    "selected_level = 5\n",
    "\n",
    "prompt = f\"\"\"\n",
    "You are a task generator for programming exercises. \n",
    "There are 10 difficulty levels (1 = very easy, 10 = expert). \n",
    "The current selected level is {selected_level}.\n",
    "\n",
    "Instructions:\n",
    "1. Generate **one clear problem statement** for the user to solve.\n",
    "2. The problem must be adapted to the selected level:\n",
    "   - Level 1–3: very simple beginner problems (basic loops, conditionals, lists).\n",
    "   - Level 4–6: intermediate problems (sorting, searching, string manipulation, basic algorithms).\n",
    "   - Level 7–8: advanced problems (recursion, dynamic programming, graph traversal).\n",
    "   - Level 9–10: expert problems (optimization, parallelism, advanced data structures).\n",
    "3. Provide:\n",
    "   - A concise **title** for the problem.\n",
    "   - A **problem description** (2–4 sentences).\n",
    "   - **Input and output examples** to clarify the task.\n",
    "\n",
    "Do not provide the solution, only the problem.\n",
    "\"\"\"\n"
   ]
  },
  {
   "cell_type": "code",
   "execution_count": 8,
   "id": "0a6eda36",
   "metadata": {},
   "outputs": [
    {
     "name": "stdout",
     "output_type": "stream",
     "text": [
      "**Title:**  Longest Palindromic Substring\n",
      "\n",
      "**Problem Description:** Write a function that takes a string as input and returns the longest palindromic substring within that string.  A palindromic substring is a sequence of characters that reads the same forwards and backward.  If multiple palindromic substrings have the same maximum length, return any one of them.\n",
      "\n",
      "**Input and Output Examples:**\n",
      "\n",
      "* **Input:** \"bananas\"\n",
      "* **Output:** \"anana\"\n",
      "\n",
      "* **Input:** \"racecar\"\n",
      "* **Output:** \"racecar\"\n",
      "\n",
      "* **Input:** \"cbbd\"\n",
      "* **Output:** \"bb\"\n",
      "\n"
     ]
    }
   ],
   "source": [
    "# Generate the response\n",
    "generated_problem = model.generate_content(prompt)\n",
    "\n",
    "# Print the generated text\n",
    "print(generated_problem.text)"
   ]
  },
  {
   "cell_type": "code",
   "execution_count": 10,
   "id": "c261e4b4",
   "metadata": {},
   "outputs": [],
   "source": [
    "reponse_of_user = \"\"\"\n",
    "from collections import defaultdict\n",
    "\n",
    "def group_anagrams(strs):\n",
    "    anagram_map = defaultdict(list)\n",
    "    \n",
    "    for word in strs:\n",
    "        sorted_word = \"\".join(sorted(word))\n",
    "        anagram_map[sorted_word].append(word)\n",
    "    return list(anagram_map.values())\n",
    "\n",
    "\"\"\""
   ]
  },
  {
   "cell_type": "code",
   "execution_count": 11,
   "id": "7f1a3839",
   "metadata": {},
   "outputs": [],
   "source": [
    "ranking = f\"\"\"\n",
    "You are a programming evaluator. \n",
    "Evaluate the user's solution to the given problem.\n",
    "\n",
    "Problem:\n",
    "{generated_problem}\n",
    "\n",
    "User's Response:\n",
    "{reponse_of_user}\n",
    "\n",
    "Instructions:\n",
    "1. Provide a score out of 20 based on correctness, efficiency, readability, and completeness.\n",
    "2. Give **specific constructive tips** for improvement (2–4 bullet points).\n",
    "3. Provide a **suggested corrected/improved version** of the response (if necessary).\n",
    "4. Return everything strictly in valid JSON with the following structure:\n",
    "\n",
    "{{\n",
    "  \"score\": <integer from 0 to 20>,\n",
    "  \"tips\": [\n",
    "    \"tip 1\",\n",
    "    \"tip 2\",\n",
    "    \"tip 3\"\n",
    "  ],\n",
    "  \"suggested_version\": \"<improved solution>\"\n",
    "}}\n",
    "\"\"\"\n"
   ]
  },
  {
   "cell_type": "code",
   "execution_count": null,
   "id": "aa5c653e",
   "metadata": {},
   "outputs": [],
   "source": [
    "ranking_result = model.generate_content(ranking)"
   ]
  },
  {
   "cell_type": "markdown",
   "id": "efbef02f",
   "metadata": {},
   "source": [
    "# Cleaning the output"
   ]
  },
  {
   "cell_type": "code",
   "execution_count": null,
   "id": "3831b515",
   "metadata": {},
   "outputs": [
    {
     "name": "stdout",
     "output_type": "stream",
     "text": [
      "{\n",
      "  \"score\": 5,\n",
      "  \"tips\": [\n",
      "    \"The user solved a completely different problem than the one described.  The problem statement asked for finding the longest palindromic substring, while the user's code implements a solution for grouping anagrams.\",\n",
      "    \"The code itself is correct for the anagram grouping problem, but it's irrelevant to the intended task.\",\n",
      "    \"The user should carefully read and understand the problem statement before attempting a solution.\",\n",
      "    \"To solve the longest palindromic substring problem, consider using dynamic programming or a more efficient string manipulation algorithm (e.g., expanding around the center).\"\n",
      "  ],\n",
      "  \"suggested_version\": \"\\ndef longest_palindrome(s):\\n    n = len(s)\\n    if n < 2:\\n        return s\\n\\n    start = 0\\n    max_len = 1\\n\\n    for i in range(n):\\n        # Odd length palindromes\\n        l, r = i, i\\n        while l >= 0 and r < n and s[l] == s[r]:\\n            if r - l + 1 > max_len:\\n                max_len = r - l + 1\\n                start = l\\n            l -= 1\\n            r += 1\\n\\n        # Even length palindromes\\n        l, r = i, i + 1\\n        while l >= 0 and r < n and s[l] == s[r]:\\n            if r - l + 1 > max_len:\\n                max_len = r - l + 1\\n                start = l\\n            l -= 1\\n            r += 1\\n\\n    return s[start:start + max_len]\\n\\n#Example Usage\\nprint(longest_palindrome(\\\"bananas\\\")) # Output: anana\\nprint(longest_palindrome(\\\"racecar\\\")) # Output: racecar\\nprint(longest_palindrome(\\\"cbbd\\\")) # Output: bb\\n\"\n",
      "}\n"
     ]
    }
   ],
   "source": [
    "import json\n",
    "import re\n",
    "\n",
    "raw_output = ranking_result.text\n",
    "\n",
    "# Remove Markdown formatting like ```json ... ```\n",
    "cleaned = re.sub(r\"```[a-zA-Z]*\\n?\", \"\", raw_output).strip(\"`\\n \")\n",
    "\n",
    "# Parse into JSON\n",
    "data = json.loads(cleaned)\n",
    "\n",
    "print(json.dumps(data, indent=2))\n"
   ]
  },
  {
   "cell_type": "code",
   "execution_count": null,
   "id": "126f43f3",
   "metadata": {},
   "outputs": [],
   "source": [
    "def function(text):\n",
    "    temp = text.lower()\n",
    "    counter = 0 \n",
    "    for i in temp :\n",
    "        if i in ['a','e','u','i','o']:\n",
    "            counter+=1\n",
    "    return counter"
   ]
  },
  {
   "cell_type": "code",
   "execution_count": 24,
   "id": "00eea588",
   "metadata": {},
   "outputs": [
    {
     "data": {
      "text/plain": [
       "3"
      ]
     },
     "execution_count": 24,
     "metadata": {},
     "output_type": "execute_result"
    }
   ],
   "source": [
    "function('hello WORLD')"
   ]
  },
  {
   "cell_type": "code",
   "execution_count": null,
   "id": "a2e1ca8a",
   "metadata": {},
   "outputs": [
    {
     "data": {
      "text/plain": [
       "6"
      ]
     },
     "execution_count": 26,
     "metadata": {},
     "output_type": "execute_result"
    }
   ],
   "source": [
    "tab = [1,2,3]\n"
   ]
  },
  {
   "cell_type": "code",
   "execution_count": null,
   "id": "f0e7bffd",
   "metadata": {},
   "outputs": [],
   "source": []
  }
 ],
 "metadata": {
  "kernelspec": {
   "display_name": "Python 3",
   "language": "python",
   "name": "python3"
  },
  "language_info": {
   "codemirror_mode": {
    "name": "ipython",
    "version": 3
   },
   "file_extension": ".py",
   "mimetype": "text/x-python",
   "name": "python",
   "nbconvert_exporter": "python",
   "pygments_lexer": "ipython3",
   "version": "3.12.3"
  }
 },
 "nbformat": 4,
 "nbformat_minor": 5
}
